{
    "cells": [
        {
            "cell_type": "markdown",
            "metadata": {
                "collapsed": true
            },
            "source": "# My Jupyter Notebook on IBM Watson Studio\n"
        },
        {
            "cell_type": "markdown",
            "metadata": {},
            "source": "Leonardo Oliveira  \nData Scientis in Petroleum E&P industry"
        },
        {
            "cell_type": "markdown",
            "metadata": {},
            "source": "_I am interested in data science because I may add value to the company. Also, It can help to optimize the everyday job._"
        },
        {
            "cell_type": "markdown",
            "metadata": {},
            "source": "### My code is supposed to wish you a happy new year!"
        },
        {
            "cell_type": "code",
            "execution_count": 1,
            "metadata": {},
            "outputs": [
                {
                    "name": "stdout",
                    "output_type": "stream",
                    "text": "happy new year!\n"
                }
            ],
            "source": "a = \"happy new year!\"\nprint(a)"
        },
        {
            "cell_type": "markdown",
            "metadata": {},
            "source": "1. happy new year\n2. Stay healthy\n3. Stay safe\n* 1\n* 2\n* 3\n  \n~~covid~~  \n\n[My notebook is in this URL](https://dataplatform.cloud.ibm.com/analytics/notebooks/v2/965181dc-6a4f-48b5-bc28-351d4d17d4b2/view?access_token=fd78fddf2d031a66addb35e29888e98e288c3726722027647d8fdf032df49e76)  \n \nAnd `That's` all"
        },
        {
            "cell_type": "code",
            "execution_count": null,
            "metadata": {},
            "outputs": [],
            "source": ""
        }
    ],
    "metadata": {
        "kernelspec": {
            "display_name": "Python 3.8",
            "language": "python",
            "name": "python3"
        },
        "language_info": {
            "codemirror_mode": {
                "name": "ipython",
                "version": 3
            },
            "file_extension": ".py",
            "mimetype": "text/x-python",
            "name": "python",
            "nbconvert_exporter": "python",
            "pygments_lexer": "ipython3",
            "version": "3.8.12"
        }
    },
    "nbformat": 4,
    "nbformat_minor": 1
}